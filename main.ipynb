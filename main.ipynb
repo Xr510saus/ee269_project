{
 "cells": [
  {
   "cell_type": "code",
   "execution_count": 6,
   "metadata": {},
   "outputs": [
    {
     "name": "stdout",
     "output_type": "stream",
     "text": [
      "(1000, 22050)\n",
      "(1000, 22050)\n"
     ]
    }
   ],
   "source": [
    "import numpy as np\n",
    "\n",
    "cfile = np.loadtxt('../dataset/coughvid_20211012/covid.txt')\n",
    "print(cfile.shape)\n",
    "hfile = np.loadtxt('../dataset/coughvid_20211012/healthy.txt')\n",
    "print(hfile.shape)"
   ]
  },
  {
   "cell_type": "code",
   "execution_count": 8,
   "metadata": {},
   "outputs": [
    {
     "name": "stdout",
     "output_type": "stream",
     "text": [
      "['covid' 'covid' 'covid' ... 'healthy' 'healthy' 'healthy']\n"
     ]
    }
   ],
   "source": [
    "from sklearn.model_selection import train_test_split\n",
    "\n",
    "data = np.vstack((cfile, hfile))\n",
    "labels = np.full(len(data), fill_value='healthy')\n",
    "labels[:len(cfile)] = 'covid'\n",
    "\n",
    "xtrain, xtest, ytrain, ytest = train_test_split(data, labels, test_size=0.2, random_state=42)"
   ]
  }
 ],
 "metadata": {
  "kernelspec": {
   "display_name": "base",
   "language": "python",
   "name": "python3"
  },
  "language_info": {
   "codemirror_mode": {
    "name": "ipython",
    "version": 3
   },
   "file_extension": ".py",
   "mimetype": "text/x-python",
   "name": "python",
   "nbconvert_exporter": "python",
   "pygments_lexer": "ipython3",
   "version": "3.11.5"
  }
 },
 "nbformat": 4,
 "nbformat_minor": 2
}
