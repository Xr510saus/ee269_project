{
 "cells": [
  {
   "cell_type": "code",
   "execution_count": 6,
   "metadata": {},
   "outputs": [],
   "source": [
    "import numpy as np\n",
    "import pandas as pd\n",
    "import os\n",
    "import glob\n",
    "\n",
    "import pickle\n",
    "from scipy.io import wavfile\n",
    "import librosa\n",
    "from DSP import preprocess_cough\n",
    "from segmentation import segment_cough\n",
    "import IPython.display as ipd\n",
    "\n",
    "path = 'C:/Users/Stephen/Documents/Stanford/EE 269/dataset/coughvid_20211012/'"
   ]
  },
  {
   "cell_type": "code",
   "execution_count": 8,
   "metadata": {},
   "outputs": [],
   "source": [
    "cfiles = glob.glob(path + 'covid/*')\n",
    "# print(cfiles)\n",
    "for i in range(1):#file in cfiles:\n",
    "    data, rate = librosa.load(cfiles[i], sr=8000)\n",
    "    ipd.Audio(data, rate=rate)"
   ]
  }
 ],
 "metadata": {
  "kernelspec": {
   "display_name": "base",
   "language": "python",
   "name": "python3"
  },
  "language_info": {
   "codemirror_mode": {
    "name": "ipython",
    "version": 3
   },
   "file_extension": ".py",
   "mimetype": "text/x-python",
   "name": "python",
   "nbconvert_exporter": "python",
   "pygments_lexer": "ipython3",
   "version": "3.11.5"
  }
 },
 "nbformat": 4,
 "nbformat_minor": 2
}
